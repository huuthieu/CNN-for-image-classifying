{
 "cells": [
  {
   "cell_type": "markdown",
   "metadata": {
    "colab_type": "text",
    "id": "UuiKELEdT6MF"
   },
   "source": [
    "# Giới thiệu Convolution Nets\n",
    "\n",
    "Convolutional Neural Networks (CNN) là một trong những mô hình deep learning phổ biến nhất và có ảnh hưởng nhiều nhất trong cộng đồng Computer Vision. CNN được dùng trong trong nhiều bài toán như nhận dạng ảnh, phân tích video, ảnh MRI, hoặc cho bài các bài của lĩnh vực xử lý ngôn ngữ tự nhiên, và hầu hết đều giải quyết tốt các bài toán này. \n",
    "\n",
    "CNN cũng có lịch sử khá lâu đời. Kiến trúc gốc của mô hình CNN được giới thiệu bởi một nhà khoa học máy tính người Nhật vào năm 1980. Sau đó, năm 1998, Yan LeCun lần đầu huấn luyện mô hình CNN với thuật toán backpropagation cho bài toán nhận dạng chữ viết tay. Tuy nhiên, mãi đến năm 2012, khi một nhà khoa học máy tính người Ukraine Alex Krizhevsky (đệ của Geoffrey Hinton) xây dựng mô hình CNN (AlexNet) và sử dụng GPU để tăng tốc quá trình huấn luyện deep nets để đạt được top 1 trong cuộc thi Computer Vision thường niên ImageNet với độ lỗi phân lớp top 5 giảm hơn 10% so với những mô hình truyền thống trước đó, đã tạo nên làn sóng mãnh mẽ sử dụng deep CNN với sự hỗ trợ của GPU để giải quyết càng nhiều các vấn đề trong Computer Vision.\n",
    "\n",
    "# Bài Toán Phân loại Ảnh\n",
    "Phân loại ảnh là một bài toán quan trọng bậc nhất trong lĩnh vực Computer Vision. Chúng ta đã có rất nhiều nghiên cứu để giải quyết bài toán này bằng cách rút trích các đặc trưng rất phổ biến như SIFT, HOG rồi cho máy tính học nhưng những cách này tỏ ra không thực sự hiểu quả. Nhưng ngược lại, đối với con người, chúng ta lại có bản năng tuyệt vời để phân loại được những đối tượng trong khung cảnh xung quanh một cách dễ dàng.\n",
    "\n",
    "Dữ liệu đầu vào của bài toán là một bức ảnh. Một ảnh được biểu diễn bằng ma trận các giá trị. Mô hình phân lớp sẽ phải dự đoán được lớp của ảnh từ ma trận điểm ảnh này, ví dụ như ảnh đó là con mèo, chó, hay là chim.\n",
    "\n",
    "![](https://pbcquoc.github.io/images/cnn_input.png)\n",
    "\n",
    "# Nội dung \n",
    "\n",
    "1. Import/ Xử lý dữ liệu\n",
    "2. Xây dựng mô hình\n",
    "3. Huấn luyện mô hình\n",
    "4. Đánh giá mô hình\n",
    "5. Sử dụng mô hình đã huấn luyện để dự đoán"
   ]
  },
  {
   "cell_type": "markdown",
   "metadata": {
    "colab_type": "text",
    "id": "1noDSEH2T6MG"
   },
   "source": [
    "# Import thư viện\n",
    " "
   ]
  },
  {
   "cell_type": "code",
   "execution_count": null,
   "metadata": {
    "colab": {},
    "colab_type": "code",
    "id": "lpEf76pvT6MH"
   },
   "outputs": [],
   "source": [
    "import os\n",
    "import numpy as np\n",
    "np.warnings.filterwarnings('ignore')\n",
    "os.environ['TF_CPP_MIN_LOG_LEVEL'] = '3' \n",
    "\n",
    "import pandas as pd\n",
    "from tqdm import tqdm\n",
    "\n",
    "from google_drive_downloader import GoogleDriveDownloader as gdd\n",
    "import matplotlib.pyplot as plt\n",
    "import tensorflow as tf\n",
    "from sklearn.model_selection import train_test_split\n",
    "from tensorflow.contrib.eager.python import tfe\n",
    "from PIL import Image\n",
    "\n",
    "tf.disable_eager_execution()\n",
    "tf.set_random_seed(0)\n",
    "np.random.seed(0)"
   ]
  },
  {
   "cell_type": "markdown",
   "metadata": {
    "colab_type": "text",
    "id": "E-drPZYqT6MK"
   },
   "source": [
    "# Import và inspect dữ liệu\n",
    "Tập dữ liệu huấn luyện bao gồm 10k ảnh, là một phần nhỏ của bộ dữ liệu trong cuộc thi ZaloAI năm 2018. \n"
   ]
  },
  {
   "cell_type": "markdown",
   "metadata": {
    "colab_type": "text",
    "id": "6kFHSLe3T6ML"
   },
   "source": [
    "## Download dữ liệu\n"
   ]
  },
  {
   "cell_type": "code",
   "execution_count": null,
   "metadata": {
    "colab": {},
    "colab_type": "code",
    "id": "TCiEHjzHT6ML"
   },
   "outputs": [],
   "source": [
    "gdd.download_file_from_google_drive(file_id='1ycR7Aexe8xbZ8oEDsQwGc9SIiFklRpfu', dest_path='./data.zip', unzip=True)"
   ]
  },
  {
   "cell_type": "markdown",
   "metadata": {
    "colab_type": "text",
    "id": "FQQFKcGLC1ZK"
   },
   "source": [
    "Dữ liệu tải xuống sẽ chứa trong folder `data`. Cấu trúc thư mục như sau:"
   ]
  },
  {
   "cell_type": "code",
   "execution_count": null,
   "metadata": {
    "colab": {
     "base_uri": "https://localhost:8080/",
     "height": 34
    },
    "colab_type": "code",
    "id": "6OgiAISfDBVD",
    "outputId": "0778da5b-299e-4943-e9af-4794e7e67edc"
   },
   "outputs": [
    {
     "data": {
      "text/plain": [
       "['sample_submission.csv', 'images', 'train.csv']"
      ]
     },
     "execution_count": 3,
     "metadata": {
      "tags": []
     },
     "output_type": "execute_result"
    }
   ],
   "source": [
    "data_dir = 'data'\n",
    "os.listdir(data_dir)"
   ]
  },
  {
   "cell_type": "markdown",
   "metadata": {
    "colab_type": "text",
    "id": "pkHAl5onDQjs"
   },
   "source": [
    "Trong đó:\n",
    "- **images**: thư mục chứa tất cả các ảnh dùng cho việc huấn luyện và đánh giá\n",
    "- **train.csv**: file CSV chứa tên các file và nhãn dùng cho việc huấn luyện\n",
    "- **sample_submission.csv**: file CSV mẫu chứa tên các file cần đánh giá và nhãn dummy"
   ]
  },
  {
   "cell_type": "markdown",
   "metadata": {
    "colab_type": "text",
    "id": "Rg3f7Xn6EFC-"
   },
   "source": [
    "## Đọc và xử lý dữ liệu"
   ]
  },
  {
   "cell_type": "markdown",
   "metadata": {
    "colab_type": "text",
    "id": "NLFGYbfMWDQ7"
   },
   "source": [
    "Đọc dữ liệu từ file CSV:"
   ]
  },
  {
   "cell_type": "code",
   "execution_count": null,
   "metadata": {
    "colab": {
     "base_uri": "https://localhost:8080/",
     "height": 204
    },
    "colab_type": "code",
    "id": "MH__gPbQJSLV",
    "outputId": "526a7879-5537-4932-95be-3c2992fda689"
   },
   "outputs": [
    {
     "data": {
      "text/html": [
       "<div>\n",
       "<style scoped>\n",
       "    .dataframe tbody tr th:only-of-type {\n",
       "        vertical-align: middle;\n",
       "    }\n",
       "\n",
       "    .dataframe tbody tr th {\n",
       "        vertical-align: top;\n",
       "    }\n",
       "\n",
       "    .dataframe thead th {\n",
       "        text-align: right;\n",
       "    }\n",
       "</style>\n",
       "<table border=\"1\" class=\"dataframe\">\n",
       "  <thead>\n",
       "    <tr style=\"text-align: right;\">\n",
       "      <th></th>\n",
       "      <th>image</th>\n",
       "      <th>label</th>\n",
       "    </tr>\n",
       "  </thead>\n",
       "  <tbody>\n",
       "    <tr>\n",
       "      <th>0</th>\n",
       "      <td>VietAI-Assignment3-1.jpg</td>\n",
       "      <td>7</td>\n",
       "    </tr>\n",
       "    <tr>\n",
       "      <th>1</th>\n",
       "      <td>VietAI-Assignment3-100.jpg</td>\n",
       "      <td>2</td>\n",
       "    </tr>\n",
       "    <tr>\n",
       "      <th>2</th>\n",
       "      <td>VietAI-Assignment3-10000.jpg</td>\n",
       "      <td>1</td>\n",
       "    </tr>\n",
       "    <tr>\n",
       "      <th>3</th>\n",
       "      <td>VietAI-Assignment3-10001.jpg</td>\n",
       "      <td>2</td>\n",
       "    </tr>\n",
       "    <tr>\n",
       "      <th>4</th>\n",
       "      <td>VietAI-Assignment3-10002.jpg</td>\n",
       "      <td>2</td>\n",
       "    </tr>\n",
       "  </tbody>\n",
       "</table>\n",
       "</div>"
      ],
      "text/plain": [
       "                          image  label\n",
       "0      VietAI-Assignment3-1.jpg      7\n",
       "1    VietAI-Assignment3-100.jpg      2\n",
       "2  VietAI-Assignment3-10000.jpg      1\n",
       "3  VietAI-Assignment3-10001.jpg      2\n",
       "4  VietAI-Assignment3-10002.jpg      2"
      ]
     },
     "execution_count": 4,
     "metadata": {
      "tags": []
     },
     "output_type": "execute_result"
    }
   ],
   "source": [
    "train_df = pd.read_csv(os.path.join(data_dir, 'train.csv'))\n",
    "train_df.head()"
   ]
  },
  {
   "cell_type": "code",
   "execution_count": null,
   "metadata": {
    "colab": {},
    "colab_type": "code",
    "id": "WBRrzcibWMWa"
   },
   "outputs": [],
   "source": [
    "train_df.info()"
   ]
  },
  {
   "cell_type": "code",
   "execution_count": null,
   "metadata": {
    "colab": {
     "base_uri": "https://localhost:8080/",
     "height": 204
    },
    "colab_type": "code",
    "id": "syh-kjLNbiQd",
    "outputId": "c2ffff43-5a9c-4efa-a34f-47479abb7d76"
   },
   "outputs": [
    {
     "data": {
      "text/html": [
       "<div>\n",
       "<style scoped>\n",
       "    .dataframe tbody tr th:only-of-type {\n",
       "        vertical-align: middle;\n",
       "    }\n",
       "\n",
       "    .dataframe tbody tr th {\n",
       "        vertical-align: top;\n",
       "    }\n",
       "\n",
       "    .dataframe thead th {\n",
       "        text-align: right;\n",
       "    }\n",
       "</style>\n",
       "<table border=\"1\" class=\"dataframe\">\n",
       "  <thead>\n",
       "    <tr style=\"text-align: right;\">\n",
       "      <th></th>\n",
       "      <th>image</th>\n",
       "      <th>label</th>\n",
       "    </tr>\n",
       "  </thead>\n",
       "  <tbody>\n",
       "    <tr>\n",
       "      <th>0</th>\n",
       "      <td>VietAI-Assignment3-10.jpg</td>\n",
       "      <td>0</td>\n",
       "    </tr>\n",
       "    <tr>\n",
       "      <th>1</th>\n",
       "      <td>VietAI-Assignment3-1000.jpg</td>\n",
       "      <td>0</td>\n",
       "    </tr>\n",
       "    <tr>\n",
       "      <th>2</th>\n",
       "      <td>VietAI-Assignment3-10004.jpg</td>\n",
       "      <td>0</td>\n",
       "    </tr>\n",
       "    <tr>\n",
       "      <th>3</th>\n",
       "      <td>VietAI-Assignment3-10006.jpg</td>\n",
       "      <td>0</td>\n",
       "    </tr>\n",
       "    <tr>\n",
       "      <th>4</th>\n",
       "      <td>VietAI-Assignment3-10012.jpg</td>\n",
       "      <td>0</td>\n",
       "    </tr>\n",
       "  </tbody>\n",
       "</table>\n",
       "</div>"
      ],
      "text/plain": [
       "                          image  label\n",
       "0     VietAI-Assignment3-10.jpg      0\n",
       "1   VietAI-Assignment3-1000.jpg      0\n",
       "2  VietAI-Assignment3-10004.jpg      0\n",
       "3  VietAI-Assignment3-10006.jpg      0\n",
       "4  VietAI-Assignment3-10012.jpg      0"
      ]
     },
     "execution_count": 5,
     "metadata": {
      "tags": []
     },
     "output_type": "execute_result"
    }
   ],
   "source": [
    "test_df = pd.read_csv(os.path.join(data_dir, 'sample_submission.csv'))\n",
    "test_df.head()"
   ]
  },
  {
   "cell_type": "code",
   "execution_count": null,
   "metadata": {
    "colab": {},
    "colab_type": "code",
    "id": "jzBkL72Sbpg_"
   },
   "outputs": [],
   "source": [
    "test_df.info()"
   ]
  },
  {
   "cell_type": "markdown",
   "metadata": {
    "colab_type": "text",
    "id": "buXAweOvENiO"
   },
   "source": [
    "Tổng cộng có 8234 ảnh cho việc huấn luyện và 2059 ảnh cần dự đoán nhãn, ta tiến hành thống kê phân bố các nhãn trên tập huấn luyện:"
   ]
  },
  {
   "cell_type": "code",
   "execution_count": null,
   "metadata": {
    "colab": {},
    "colab_type": "code",
    "id": "lZPoB7-gV8C6"
   },
   "outputs": [],
   "source": [
    "train_df.label.value_counts()"
   ]
  },
  {
   "cell_type": "markdown",
   "metadata": {
    "colab_type": "text",
    "id": "Bo0z1gUIVcmj"
   },
   "source": [
    "Số lượng các ảnh cho mỗi lớp từ 400 đến 2000. Trong đó lớp số 2 có số lượng ảnh nhiều nhất"
   ]
  },
  {
   "cell_type": "code",
   "execution_count": null,
   "metadata": {
    "colab": {},
    "colab_type": "code",
    "id": "AIHjhdzRZ8Z3"
   },
   "outputs": [],
   "source": [
    "def generate_data(image_paths, size=224):\n",
    "    \"\"\"\n",
    "    Đọc và chuyển các ảnh về numpy array\n",
    "    \n",
    "    Parameters\n",
    "    ----------\n",
    "    image_paths: list of N strings\n",
    "        List các đường dẫn ảnh\n",
    "    size: int\n",
    "        Kích thước ảnh cần resize\n",
    "    \n",
    "    Returns\n",
    "    -------\n",
    "    numpy array kích thước (N, size, size, 3)\n",
    "    \"\"\"\n",
    "    image_array = np.zeros((len(image_paths), size, size, 3), dtype='float32')\n",
    "    \n",
    "    for idx, image_path in tqdm(enumerate(image_paths)):\n",
    "        ### START CODE HERE\n",
    "        \n",
    "        # Đọc ảnh bằng thư viện Pillow và resize ảnh\n",
    "        image = Image.open(image_path).convert(\"RGB\").resize((size,size))\n",
    "        \n",
    "        # Chuyển ảnh thành numpy array và gán lại mảng image_array\n",
    "        image_array[idx] = np.array(image).astype('float32')/255\n",
    "        \n",
    "        ### END CODE HERE\n",
    "    return image_array"
   ]
  },
  {
   "cell_type": "markdown",
   "metadata": {
    "colab_type": "text",
    "id": "s9sI7QBibZdG"
   },
   "source": [
    "Sử dụng hàm `generate_data` để tạo ma trận của tập dữ liệu train và test:"
   ]
  },
  {
   "cell_type": "code",
   "execution_count": null,
   "metadata": {
    "colab": {},
    "colab_type": "code",
    "id": "X7UkA-_rbYzn"
   },
   "outputs": [],
   "source": [
    "# List các đường dẫn file cho việc huấn luyện\n",
    "train_files = [os.path.join(\"data/images\", file) for file in train_df.image]\n",
    "\n",
    "# List các nhãn\n",
    "train_y = train_df.label\n",
    "\n",
    "# Tạo numpy array cho dữ liệu huấn luyện\n",
    "train_arr = generate_data(train_files)"
   ]
  },
  {
   "cell_type": "code",
   "execution_count": null,
   "metadata": {
    "colab": {},
    "colab_type": "code",
    "id": "DxScb0w_e2Gh"
   },
   "outputs": [],
   "source": [
    "train_arr.shape"
   ]
  },
  {
   "cell_type": "markdown",
   "metadata": {
    "colab_type": "text",
    "id": "msp9WEgOfRdf"
   },
   "source": [
    "Tiến hành tạo tensor dữ liệu cho tập test"
   ]
  },
  {
   "cell_type": "code",
   "execution_count": null,
   "metadata": {
    "colab": {},
    "colab_type": "code",
    "id": "0vI-AlLgfXi1"
   },
   "outputs": [],
   "source": [
    "test_files = [os.path.join(\"data/images\", file) for file in test_df.image]\n",
    "test_x = generate_data(test_files)\n",
    "test_x.shape"
   ]
  },
  {
   "cell_type": "markdown",
   "metadata": {
    "colab_type": "text",
    "id": "LssbDy2pf9ua"
   },
   "source": [
    "Tạo **one-hot labels** từ `train_y` để đưa vào huấn luyện với Tensorflow. "
   ]
  },
  {
   "cell_type": "code",
   "execution_count": null,
   "metadata": {
    "colab": {},
    "colab_type": "code",
    "id": "iVuRanKET6MO"
   },
   "outputs": [],
   "source": [
    "num_classes = len(np.unique(train_y))\n",
    "y_one = tf.keras.utils.to_categorical(train_y, num_classes=num_classes)"
   ]
  },
  {
   "cell_type": "markdown",
   "metadata": {
    "colab_type": "text",
    "id": "vjpnYIXRT6MT"
   },
   "source": [
    "## Chia dữ liệu để huấn luyện và đánh giá\n",
    "\n"
   ]
  },
  {
   "cell_type": "code",
   "execution_count": null,
   "metadata": {
    "colab": {},
    "colab_type": "code",
    "id": "MtnwiHOZT6MU"
   },
   "outputs": [],
   "source": [
    "x_train, x_valid, y_train_one, y_valid_one = train_test_split(train_arr, y_one, test_size=0.25)\n",
    "\n",
    "print(\"Train size: {} - Validation size: {}\".format(x_train.shape, x_valid.shape))"
   ]
  },
  {
   "cell_type": "code",
   "execution_count": null,
   "metadata": {
    "colab": {},
    "colab_type": "code",
    "id": "qCTUEY2dBIUQ"
   },
   "outputs": [],
   "source": [
    "new_train_df, val_df = train_test_split(train_df, test_size=0.25)"
   ]
  },
  {
   "cell_type": "markdown",
   "metadata": {
    "colab_type": "text",
    "id": "06g6e_u7T6MY"
   },
   "source": [
    "## Mô Hình CNN\n",
    "\n",
    "CNN bao gồm tập hợp các lớp cơ bản bao sau: convolution layer + nonlinear layer (RELU, ...), pooling layer, fully connected layer. Các lớp này liên kết với nhau theo một thứ tự nhất định. Thông thường, một ảnh sẽ được lan truyền qua tầng convolution layer + nonlinear layer đầu tiên, sau đó các giá trị tính toán được sẽ lan truyền qua pooling layer, bộ ba convolution layer + nonlinear layer + pooling layer có thể được lặp lại nhiều lần trong network. Và sau đó được lan truyền qua tầng fully connected layer và softmax để tính xác suất ảnh đó chứa vật thế gì.\n",
    "\n",
    "![](https://pbcquoc.github.io/images/cnn_model.png)\n",
    "\n",
    "### Convolution Layer\n",
    "Convolution layer là lớp đầu tiên và cũng là lớp quan trọng nhất của mô hình CNN. Lớp này có chức năng chính là phát hiện các đặc trưng về không gian một cách hiệu quả. Trong tầng này có 4 đối tượng chính là: ma trận đầu vào, bộ **filter**, và **receptive field**, **feature map**. Conv layer nhận đầu vào là một ma trận 3 chiều và một bộ filter cần phải học. Bộ filters này sẽ trượt qua từng vị trí trên bức ảnh để tính tích chập (convolution) giữa bộ filter và phần tương ứng trên bức ảnh. Phần tương ứng này trên bức ảnh gọi là receptive field, tức là vùng mà một neuron có thể nhìn thấy để đưa ra quyết định, và mà trận cho ra bởi quá trình này được gọi là feature map. Để hình dung, các bạn có thể tưởng tượng, bộ filters giống như các tháp canh trong nhà tù quét lần lượt qua không gian xung quanh để tìm kiếm tên tù nhân bỏ trốn. Khi phát hiện tên tù nhân bỏ trốn, thì chuông báo động sẽ reo lên, giống như các bộ filters tìm kiếm được đặc trưng nhất định thì tích chập đó sẽ cho giá trị lớn. \n",
    "\n",
    "<div class=\"img-div\" markdown=\"0\">\n",
    "    <img src=\"https://media.giphy.com/media/3orif7it9f4phjv4LS/giphy.gif\" />\n",
    "</div>\n",
    "\n",
    "Với ví dụ ở bên dưới, dữ liệu đầu vào ở là ma trận có kích thước 8x8x1, một bộ filter có kích thước 2x2x1, feature map có kích thước 7x7x1. Mỗi giá trị ở feature map được tính bằng tổng của tích các phần tử tương ứng của bộ filter 2x2x1 với receptive field trên ảnh. Và để tính tất cả các giá trị cho feature map, các bạn cần trượt filter từ trái sang phải, từ trên xuống dưới. Do đó, các bạn có thể thấy rằng phép convolution bảo toàn thứ tự không gian của các điểm ảnh. Ví dụ điểm góc trái của dữ liệu đầu vào sẽ tương ứng với bên một điểm bên góc trái của feature map. \n",
    "\n",
    "<div class=\"img-div\" markdown=\"0\">\n",
    "    <img src=\"https://pbcquoc.github.io/images/cnn_covolution_layer.png\" />\n",
    "</div>\n",
    "\n",
    "#### Tầng convolution như là feature detector \n",
    "\n",
    "Tầng convolution có chức năng chính là phát hiện đặc trưng cụ thể của bức ảnh. Những đặc trưng này bao gồm đặc trưng cơ bản là góc, cạnh, màu sắc, hoặc đặc trưng phức tạp hơn như texture của ảnh. Vì bộ filter quét qua toàn bộ bức ảnh, nên những đặc trưng này có thể nằm ở vị trí bất kì trong bức ảnh, cho dù ảnh bị xoay trái/phải thì những đặc trưng này vẫn bị phát hiện. \n",
    "\n",
    "Ở minh họa dưới, các bạn có một filter 5x5 dùng để phát hiện góc/cạnh, filter này chỉ có giá trị một tại các điểm tương ứng một góc cong. \n",
    "\n",
    "<div class=\"img-div\" markdown=\"0\">\n",
    "    <img src=\"https://pbcquoc.github.io/images/cnn_high_level_feature.png\" />\n",
    "</div>\n",
    "\n",
    "Dùng filter ở trên trượt qua ảnh của nhân vật Olaf trong trong bộ phim Frozen. Chúng ta thấy rằng, chỉ ở những vị trí trên bức ảnh có dạng góc như đặc trưng ở filter thì mới có giá trị lớn trên feature map, những vị trí còn lại sẽ cho giá trị thấp hơn. Điều này có nghĩa là, filter đã phát hiện thành công một dạng góc/cạnh trên dự liệu đầu vào. Tập hợp nhiều bộ filters sẽ cho phép các bạn phát hiện được nhiều loại đặc trưng khác nhau, và giúp định danh được đối tượng. \n",
    "\n",
    "<div class=\"img-div\" markdown=\"0\">\n",
    "    <img src=\"https://pbcquoc.github.io/images/cnn_high_level_feature_ex.png\" />\n",
    "</div>\n",
    "\n",
    "#### Các tham số của tầng convolution: Kích thước bộ filter, stride và padding\n",
    "\n",
    "\n"
   ]
  },
  {
   "cell_type": "markdown",
   "metadata": {
    "colab_type": "text",
    "id": "CATPodwfT6MZ"
   },
   "source": [
    "# Xây dựng mô hình\n",
    "\n",
    "![](https://github.com/pbcquoc/cnn/raw/master/images/cnn_architecture_2.png)\n"
   ]
  },
  {
   "cell_type": "code",
   "execution_count": null,
   "metadata": {
    "colab": {},
    "colab_type": "code",
    "id": "GkT5hTxjT6Mb"
   },
   "outputs": [],
   "source": [
    "class ConvBlock(tf.keras.Model):\n",
    "    def __init__(self, filters, kernel, strides, padding):\n",
    "        '''\n",
    "        Khởi tạo Convolution Block với các tham số đầu vào\n",
    "        \n",
    "        Parameters\n",
    "        ----------\n",
    "        filters: int\n",
    "            số lượng filter\n",
    "        kernel: int\n",
    "            kích thước kernel\n",
    "        strides: int\n",
    "            stride của convolution layer\n",
    "        padding: str\n",
    "            Loại padding của convolution layer\n",
    "        \n",
    "        '''\n",
    "        \n",
    "        super(ConvBlock, self).__init__()\n",
    " \n",
    "        \n",
    "        # Tạo layer Conv2D\n",
    "        self.cnn = tf.keras.layers.Conv2D(filters, (kernel, kernel), strides=(strides, strides), kernel_initializer='he_normal', padding=padding)\n",
    "        \n",
    "        # Tạo layer MaxPool2D\n",
    "        self.pool = tf.keras.layers.MaxPool2D((2,2), strides=(2,2))\n",
    "        \n",
    "        # Tạo các layer khác tùy ý nếu cần thiết\n",
    "        self.bn = tf.keras.layers.BatchNormalization()\n",
    "        \n",
    "     \n",
    "        \n",
    "        \n",
    "    def call(self, inputs):\n",
    "        '''\n",
    "        Hàm này sẽ được gọi trong quá trình forwarding của mạng\n",
    "        \n",
    "        Parameters\n",
    "        ----------\n",
    "        inputs: tensor đầu vào\n",
    "        \n",
    "        Returns\n",
    "        -------\n",
    "        tensor\n",
    "            giá trị đầu ra của mạng\n",
    "        '''\n",
    "        \n",
    "        x = None\n",
    "\n",
    "        \n",
    "        # Forward inputs qua từng layer và gán vào biến x để trả về\n",
    "        \n",
    "        x = self.cnn(inputs)\n",
    "        x = self.bn(x)\n",
    "        x = tf.nn.relu(x)   \n",
    "        x = self.pool(x)\n",
    "        \n",
    "        ## END CODE HERE\n",
    "\n",
    "        return x"
   ]
  },
  {
   "cell_type": "markdown",
   "metadata": {
    "colab_type": "text",
    "id": "D1avJ7wvxpFq"
   },
   "source": [
    "## Định nghĩa toàn bộ mô hình CNN\n"
   ]
  },
  {
   "cell_type": "code",
   "execution_count": null,
   "metadata": {
    "colab": {},
    "colab_type": "code",
    "id": "fn6w7oh-T6Md"
   },
   "outputs": [],
   "source": [
    "class CNN(tf.keras.Model):\n",
    "    def __init__(self, num_classes):\n",
    "        \n",
    "        super(CNN, self).__init__()\n",
    "        \n",
    "        # Khởi tạo các convolution block\n",
    "        self.block1 = ConvBlock(64, kernel=3, strides=1, padding='same')\n",
    "        self.block2 = ConvBlock(128, kernel=3, strides=1, padding='same')\n",
    "        self.block3 = ConvBlock(256, kernel=3, strides=1, padding='same')\n",
    "        self.block4 = ConvBlock(512, kernel=3, strides=1, padding='same')\n",
    "        self.block5 = ConvBlock(512, kernel=3, strides=1, padding='same')       \n",
    "        self.block6 = ConvBlock(1024, kernel=3, strides=1, padding='same')\n",
    "        self.dropout = tf.keras.layers.Dropout(rate=0.5)\n",
    "        \n",
    "        # Khởi tạo layer để flatten feature map \n",
    "        self.flatten = tf.layers.Flatten()\n",
    "        \n",
    "        ### END CODE HERE\n",
    "        \n",
    "        # Khởi tạo fully connected layer\n",
    "        self.dense1 = tf.keras.layers.Dense(num_classes)\n",
    "\n",
    "    def call(self, inputs):\n",
    "        \n",
    "        # Forward gía trị inputs qua các tầng CNN và gán vào x\n",
    "        x = self.block1(inputs)\n",
    "        x = self.block2(x)\n",
    "        x = self.block3(x)\n",
    "        x = self.block4(x)\n",
    "        x = self.block5(x)\n",
    "        x = self.block6(x)\n",
    "        \n",
    "        x = self.flatten(x)\n",
    "        x = self.dropout(x)\n",
    "\n",
    "        \n",
    "       \n",
    "        \n",
    "        # Forward giá trị x qua Fully connected layer\n",
    "        x = self.dense1(x)\n",
    "        \n",
    "        ### END CODE HERE\n",
    "        \n",
    "        # Để sử dụng hàm softmax, ta phải thực thi trên CPU\n",
    "        with tf.device('/cpu:0'):\n",
    "            output = tf.nn.softmax(x)\n",
    "\n",
    "        return output"
   ]
  },
  {
   "cell_type": "markdown",
   "metadata": {
    "colab_type": "text",
    "id": "HeV9Ab03T6Mk"
   },
   "source": [
    "# Huấn Luyện\n"
   ]
  },
  {
   "cell_type": "code",
   "execution_count": null,
   "metadata": {
    "colab": {},
    "colab_type": "code",
    "id": "5tmZonE2T6Ml"
   },
   "outputs": [],
   "source": [
    "device = '/cpu:0' if tfe.num_gpus() == 0 else '/gpu:0'\n",
    "batch_size = 32\n",
    "epochs = 16\n",
    "\n",
    "with tf.device(device):\n",
    "    # Khởi tạo model\n",
    "    model = CNN(num_classes)\n",
    "    \n",
    "    # Tạo callback để lưu model có accuracy trên tập validation tốt nhất\n",
    "    mcp = tf.keras.callbacks.ModelCheckpoint(\"my_model.h5\", monitor=\"val_acc\",\n",
    "                      save_best_only=True, save_weights_only=True)\n",
    "    \n",
    "    # Compile model\n",
    "    model.compile(optimizer=tf.train.AdamOptimizer(0.001), loss='categorical_crossentropy',\n",
    "                  metrics=['accuracy'])\n",
    "    \n",
    "    # Huấn luyện\n",
    "    print(y_train_one)\n",
    "    model.fit(x_train, y_train_one, batch_size=batch_size, epochs=epochs,\n",
    "              validation_data=(x_valid, y_valid_one), verbose=1, callbacks=[mcp])\n"
   ]
  },
  {
   "cell_type": "markdown",
   "metadata": {
    "colab_type": "text",
    "id": "5p4QgrUJT6Mp"
   },
   "source": [
    "# Dự Đoán các ảnh trên tập test\n",
    "\n"
   ]
  },
  {
   "cell_type": "markdown",
   "metadata": {
    "colab_type": "text",
    "id": "np3O0GgN4s3n"
   },
   "source": [
    "## Tạo và load model đã lưu trước đó"
   ]
  },
  {
   "cell_type": "code",
   "execution_count": null,
   "metadata": {
    "colab": {},
    "colab_type": "code",
    "id": "VnnCTqhBT6Mq"
   },
   "outputs": [],
   "source": [
    "# Load best model\n",
    "model = CNN(11)\n",
    "\n",
    "# Thiết lập kích thước input cho model\n",
    "dummy_x = tf.zeros((1, 224, 224, 3))\n",
    "model._set_inputs(dummy_x)\n",
    "\n",
    "# Load model đã lưu trước đó trong quá trình huấn luyện\n",
    "model.load_weights('my_model.h5')\n",
    "print(\"Model đã được load\")"
   ]
  },
  {
   "cell_type": "markdown",
   "metadata": {
    "colab_type": "text",
    "id": "QaMQvDMJ46Vs"
   },
   "source": [
    "## Dự đoán nhãn của các ảnh trên tập test"
   ]
  },
  {
   "cell_type": "markdown",
   "metadata": {
    "colab_type": "text",
    "id": "YLaGW2b55mqW"
   },
   "source": [
    "Sử dụng hàm predict để dự đoán"
   ]
  },
  {
   "cell_type": "code",
   "execution_count": null,
   "metadata": {
    "colab": {},
    "colab_type": "code",
    "id": "TBl_-M0_T6Mt"
   },
   "outputs": [],
   "source": [
    "pred = model.predict(test_x)\n",
    "\n",
    "# pred là một ma trận xác suất của ảnh trên các lớp.\n",
    "# Ta lấy lớp có xác suất cao nhất trên từng ảnh bằng hàm argmax\n",
    "pred_labels = np.argmax(pred, axis=1)"
   ]
  },
  {
   "cell_type": "markdown",
   "metadata": {
    "colab_type": "text",
    "id": "ZqXMbQte5o7U"
   },
   "source": [
    "Hiển thị thử kết quả của tập test"
   ]
  },
  {
   "cell_type": "code",
   "execution_count": null,
   "metadata": {
    "colab": {},
    "colab_type": "code",
    "id": "DhVAFRO3T6Nn"
   },
   "outputs": [],
   "source": [
    "test_df['label'] = predictions\n",
    "test_df.head(20)"
   ]
  },
  {
   "cell_type": "markdown",
   "metadata": {
    "colab_type": "text",
    "id": "QlJ9T6eN5u9n"
   },
   "source": [
    "Lưu kết quả thành file CSV:"
   ]
  },
  {
   "cell_type": "code",
   "execution_count": null,
   "metadata": {
    "colab": {},
    "colab_type": "code",
    "id": "wx7VJJnCozqu"
   },
   "outputs": [],
   "source": [
    "test_df.to_csv(\"submission.csv\", index=False)"
   ]
  },
  {
   "cell_type": "markdown",
   "metadata": {
    "colab_type": "text",
    "id": "YLo6SJb-AjWD"
   },
   "source": []
  },
  {
   "cell_type": "markdown",
   "metadata": {
    "colab_type": "text",
    "id": "5UJBk2YToUAW"
   },
   "source": [
    "# Baseline model 2: Data augmentation"
   ]
  },
  {
   "cell_type": "markdown",
   "metadata": {
    "colab_type": "text",
    "id": "Udb21Jh3o0Jv"
   },
   "source": [
    "Ở baseline này, để cải thiện kết quả trên tập test, chúng ta có thể áp dụng kỹ thuật Image Augmentation. Thư viện Keras hỗ trợ class `ImageDataGenerator` trong việc augmentation. Ở ví dụ bên dưới, các kỹ thuật được áp dụng trong quá trình xử lý ảnh là:\n",
    "- rescale: đưa ảnh về miền giá trị [0,1]\n",
    "- rotation: xoay ảnh ngẫu nhiên trái phải 20 độ\n",
    "- shift: dịch chuyển ảnh sang trái phải, trên dưới 20% kích thước\n",
    "- horizontal flip: lật ảnh ngang ngẫu nhiên\n",
    "\n",
    "Tuy nhiên các kĩ thuật này chỉ áp dụng trong khi training, khi validation và testing, chỉ có rescale được áp dụng để tránh việc các kết quả validation không chính xác do data thay đổi qua các lần validate."
   ]
  },
  {
   "cell_type": "code",
   "execution_count": null,
   "metadata": {
    "colab": {},
    "colab_type": "code",
    "id": "1bQA6Xz2thtu"
   },
   "outputs": [],
   "source": [
    "# Data Generator dùng cho training\n",
    "train_datagen = tf.keras.preprocessing.image.ImageDataGenerator(\n",
    "    rescale=1./255,\n",
    "    rotation_range=20,\n",
    "    width_shift_range=0.2,\n",
    "    height_shift_range=0.2,\n",
    "    horizontal_flip=True)\n",
    "\n",
    "# Data Generator dùng cho validation và testing\n",
    "test_datagen = tf.keras.preprocessing.image.ImageDataGenerator(rescale=1./255)"
   ]
  },
  {
   "cell_type": "markdown",
   "metadata": {
    "colab_type": "text",
    "id": "KDGDU84TqDgU"
   },
   "source": [
    "Class `ImageDataGenerator` hỗ trợ đọc ảnh và augmentation realtime khi training, điều này giúp cho quá trình training không tốn nhiều bộ nhớ do không cần phải load toàn bộ ảnh như ban đầu. Ta có thể sử dụng hàm `flow_from_dataframe` để tạo luồng input từ DataFrame và folder chứa ảnh."
   ]
  },
  {
   "cell_type": "code",
   "execution_count": null,
   "metadata": {
    "colab": {},
    "colab_type": "code",
    "id": "vSYU4w2Dt73d"
   },
   "outputs": [],
   "source": [
    "batch_size = 24\n",
    "\n",
    "# ImageDataGenerator chỉ chấp nhận kiểu label là string, \n",
    "# ta chuyển cột label sang string\n",
    "train_df[\"label\"] = train_df[\"label\"].map(lambda x: str(x))\n",
    "# Chia dữ liệu thành train và validation\n",
    "train_data, val_data = train_test_split(train_df, test_size=0.25)\n",
    "\n",
    "# Tạo luồng dữ liệu cho quá trình train, các bạn có thể tìm hiểu các tham số ở Keras document\n",
    "train_gen = train_datagen.flow_from_dataframe(dataframe=train_data, \n",
    "                                        directory=\"data/images\", \n",
    "                                        x_col=\"image\", \n",
    "                                        y_col=\"label\",\n",
    "                                        class_mode=\"categorical\",\n",
    "                                        target_size=(224,224), \n",
    "                                        batch_size=batch_size)\n",
    "\n",
    "# Tạo luồng dữ liệu cho quá trình test\n",
    "val_gen = test_datagen.flow_from_dataframe(dataframe=val_data, \n",
    "                                        directory=\"data/images\", \n",
    "                                        x_col=\"image\", \n",
    "                                        y_col=\"label\",\n",
    "                                        class_mode=\"categorical\",\n",
    "                                        shuffle=False,\n",
    "                                        target_size=(224,224), \n",
    "                                        batch_size=batch_size)"
   ]
  },
  {
   "cell_type": "markdown",
   "metadata": {
    "colab_type": "text",
    "id": "vl1UAMp8q51Z"
   },
   "source": [
    "Tiến hành huấn luyện"
   ]
  },
  {
   "cell_type": "code",
   "execution_count": null,
   "metadata": {
    "colab": {},
    "colab_type": "code",
    "id": "usWQsXR3q0b9"
   },
   "outputs": [],
   "source": [
    "device = '/cpu:0' if tfe.num_gpus() == 0 else '/gpu:0'\n",
    "epochs = 50\n",
    "\n",
    "# Số lượng training step mỗi epoch\n",
    "steps_per_epoch = train_gen.n // batch_size\n",
    "# Số lượng validation step\n",
    "validation_steps = val_gen.n // batch_size\n",
    "\n",
    "with tf.device(device):\n",
    "    # Khởi tạo model\n",
    "    model = CNN(num_classes)\n",
    "    \n",
    "    # Lưu ý, để sử dụng hàm fit_generator ta cần set kích thước input\n",
    "    # dummy_x = tf.zeros((1, 224, 224, 3))\n",
    "    # model._set_inputs(dummy_x)\n",
    "    \n",
    "    # Tạo callback để lưu model có accuracy trên tập validation tốt nhất\n",
    "    mcp = tf.keras.callbacks.ModelCheckpoint(\"cnn_augmentation.h5\", monitor=\"val_acc\",\n",
    "                      save_best_only=True, save_weights_only=True)\n",
    "    \n",
    "    # Compile model\n",
    "    model.compile(optimizer=tf.train.AdamOptimizer(0.001), loss='categorical_crossentropy',\n",
    "                  metrics=['accuracy'])\n",
    "    \n",
    "    # Huấn luyện với data generator\n",
    "    model.fit_generator(train_gen, \n",
    "                        steps_per_epoch=steps_per_epoch, \n",
    "                        epochs=epochs,\n",
    "                        verbose=1, \n",
    "                        validation_data=val_gen,\n",
    "                        validation_steps=validation_steps, \n",
    "                        callbacks=[mcp])"
   ]
  },
  {
   "cell_type": "markdown",
   "metadata": {
    "colab_type": "text",
    "id": "2VW8rt8VrkC7"
   },
   "source": [
    "Để predict trên tập test, ta cũng tạo một data generator với `class_mode` là `None`"
   ]
  },
  {
   "cell_type": "code",
   "execution_count": null,
   "metadata": {
    "colab": {},
    "colab_type": "code",
    "id": "HTWHpPVyQR3C"
   },
   "outputs": [],
   "source": [
    "test_gen = test_datagen.flow_from_dataframe(dataframe=test_df, \n",
    "                                        directory=\"data/images\", \n",
    "                                        x_col=\"image\",\n",
    "                                        class_mode=None,\n",
    "                                        shuffle=False,\n",
    "                                        batch_size=32,\n",
    "                                        target_size=(224,224))"
   ]
  },
  {
   "cell_type": "markdown",
   "metadata": {
    "colab_type": "text",
    "id": "NaNHbhX6r1SQ"
   },
   "source": [
    "Lưu ý, thứ tự các lớp sẽ không tuân theo quy luật từ 0-10 mà sẽ theo thứ tự alphabet khi sử dụng ImageDataGenerator. Do đó ta cần ánh xạ các indices sau khi predict về lớp tương ứng của nó:"
   ]
  },
  {
   "cell_type": "code",
   "execution_count": null,
   "metadata": {
    "colab": {},
    "colab_type": "code",
    "id": "xVb_cZ-Aoj5n"
   },
   "outputs": [],
   "source": [
    "pred = model.predict_generator(test_gen)\n",
    "\n",
    "# pred là một ma trận xác suất của ảnh trên các lớp.\n",
    "# Ta lấy lớp có xác suất cao nhất trên từng ảnh bằng hàm argmax\n",
    "predicted_class_indices = np.argmax(pred, axis=1)\n",
    "\n",
    "# Dictionary ánh xạ nhãn và index\n",
    "labels = train_gen.class_indices\n",
    "\n",
    "# Ánh xạ indices về nhãn đúng\n",
    "labels = dict((v,k) for k,v in labels.items())\n",
    "predictions = [labels[k] for k in predicted_class_indices]"
   ]
  },
  {
   "cell_type": "markdown",
   "metadata": {
    "colab_type": "text",
    "id": "gBTLU_fwswBx"
   },
   "source": [
    "# Baseline model 3: Transfer learning"
   ]
  },
  {
   "cell_type": "code",
   "execution_count": null,
   "metadata": {
    "colab": {},
    "colab_type": "code",
    "id": "S4uDe_bao6we"
   },
   "outputs": [],
   "source": [
    "!pip install effiecientnet"
   ]
  },
  {
   "cell_type": "code",
   "execution_count": null,
   "metadata": {
    "colab": {
     "base_uri": "https://localhost:8080/",
     "height": 34
    },
    "colab_type": "code",
    "id": "ZOQNzAFOp9qz",
    "outputId": "03ab0c58-e694-4dd3-a15d-2c8deabf8bfb"
   },
   "outputs": [
    {
     "name": "stderr",
     "output_type": "stream",
     "text": [
      "Using TensorFlow backend.\n"
     ]
    }
   ],
   "source": [
    "# from effiecientnet improt EfficientNetB3\n",
    "import keras\n",
    "from efficientnet.keras import EfficientNetB3"
   ]
  },
  {
   "cell_type": "code",
   "execution_count": null,
   "metadata": {
    "colab": {},
    "colab_type": "code",
    "id": "diBHD1ShNxL6"
   },
   "outputs": [],
   "source": [
    "import keras.backend as K\n",
    "\n",
    "def f1(y_true, y_pred):\n",
    "    def recall(y_true, y_pred):\n",
    "        \"\"\"Recall metric.\n",
    "\n",
    "        Only computes a batch-wise average of recall.\n",
    "\n",
    "        Computes the recall, a metric for multi-label classification of\n",
    "        how many relevant items are selected.\n",
    "        \"\"\"\n",
    "        true_positives = K.sum(K.round(K.clip(y_true * y_pred, 0, 1)))\n",
    "        possible_positives = K.sum(K.round(K.clip(y_true, 0, 1)))\n",
    "        recall = true_positives / (possible_positives + K.epsilon())\n",
    "        return recall\n",
    "\n",
    "    def precision(y_true, y_pred):\n",
    "        \"\"\"Precision metric.\n",
    "\n",
    "        Only computes a batch-wise average of precision.\n",
    "\n",
    "        Computes the precision, a metric for multi-label classification of\n",
    "        how many selected items are relevant.\n",
    "        \"\"\"\n",
    "        true_positives = K.sum(K.round(K.clip(y_true * y_pred, 0, 1)))\n",
    "        predicted_positives = K.sum(K.round(K.clip(y_pred, 0, 1)))\n",
    "        precision = true_positives / (predicted_positives + K.epsilon())\n",
    "        return precision\n",
    "    precision = precision(y_true, y_pred)\n",
    "    recall = recall(y_true, y_pred)\n",
    "    return 2*((precision*recall)/(precision+recall+K.epsilon()))"
   ]
  },
  {
   "cell_type": "code",
   "execution_count": null,
   "metadata": {
    "colab": {},
    "colab_type": "code",
    "id": "yM4TR8rlqB2-"
   },
   "outputs": [],
   "source": [
    "# Số lượng training step mỗi epoch\n",
    "steps_per_epoch = train_gen.n // batch_size\n",
    "# Số lượng validation step\n",
    "validation_steps = val_gen.n // batch_size\n",
    "\n",
    "# Khởi tạo base model Resnet với pretrained weights từ ImageNet\n",
    "base_model = EfficientNetB3(weights='imagenet', include_top=False, input_shape=(224, 224, 3))\n",
    "\n",
    "# Tạo model hoàn chỉnh bằng cách thêm lớp classifier\n",
    "x = base_model.output\n",
    "x = keras.layers.GlobalAveragePooling2D()(x)\n",
    "predictions = keras.layers.Dense(11, activation='softmax')(x)\n",
    "model = keras.models.Model(input = base_model.input, output = predictions)\n",
    "\n",
    "# Freeze các lớp CNN ban đầu\n",
    "base_model.trainable = False\n",
    "\n",
    "# Tạo callback để lưu model có accuracy trên tập validation tốt nhất\n",
    "mcp = keras.callbacks.ModelCheckpoint(\"efficientnetb3.h5\", monitor=\"val_f1\",\n",
    "                  save_best_only=True, mode='max', save_weights_only=True, verbose=1)\n",
    "rlr = keras.callbacks.ReduceLROnPlateau(monitor='val_f1', factor=0.1, mode='max', patience=5, min_lr=1e-8, verbose=1)\n",
    "\n",
    "# Compile model\n",
    "model.compile(optimizer=keras.optimizers.Adam(0.01), loss='categorical_crossentropy',\n",
    "              metrics=[f1])\n",
    "\n",
    "# model.load_weights(\"efficientnetb3.h5\")\n",
    "\n",
    "# Huấn luyện 10 epochs với learning rate lớn\n",
    "model.fit_generator(train_gen, \n",
    "                    steps_per_epoch=steps_per_epoch, \n",
    "                    epochs=10,\n",
    "                    verbose=1, \n",
    "                    validation_data=val_gen,\n",
    "                    validation_steps=validation_steps, \n",
    "                    callbacks=[mcp, rlr])\n",
    "\n",
    "# Unfreeze toàn bộ mạng\n",
    "base_model.trainable = True\n",
    "\n",
    "# Compile model\n",
    "model.compile(optimizer=keras.optimizers.Adam(0.01), loss='categorical_crossentropy',\n",
    "              metrics=[f1])\n",
    "\n",
    "\n",
    "\n",
    "# Huấn luyện 100 epochs với learning rate nhỏ\n",
    "model.fit_generator(train_gen, \n",
    "                    steps_per_epoch=steps_per_epoch, \n",
    "                    epochs=100,\n",
    "                    verbose=1, \n",
    "                    validation_data=val_gen,\n",
    "                    validation_steps=validation_steps, \n",
    "                    callbacks=[mcp])\n"
   ]
  },
  {
   "cell_type": "code",
   "execution_count": null,
   "metadata": {
    "colab": {},
    "colab_type": "code",
    "id": "uqHSMra3gFZw"
   },
   "outputs": [],
   "source": [
    "with tf.device(device):\n",
    "    # Khởi tạo base model Resnet với pretrained weights từ ImageNet\n",
    "    base_model = tf.keras.applications.ResNet50(input_shape=(224,224,3),\n",
    "                                               include_top=False, \n",
    "                                               weights='imagenet')\n",
    "    \n",
    "    # Tạo model hoàn chỉnh bằng cách thêm lớp classifier\n",
    "    model = tf.keras.Sequential([\n",
    "      base_model,\n",
    "      keras.layers.GlobalAveragePooling2D(),\n",
    "      keras.layers.Dense(num_classes, activation='softmax')\n",
    "    ])\n",
    "    \n",
    "    # Freeze các lớp CNN ban đầu\n",
    "    base_model.trainable = False\n",
    "    \n",
    "    # Tạo callback để lưu model có accuracy trên tập validation tốt nhất\n",
    "    mcp = tf.keras.callbacks.ModelCheckpoint(\"resnet50.h5\", monitor=\"val_acc\",\n",
    "                      save_best_only=True, save_weights_only=True)\n",
    "    \n",
    "    # Compile model\n",
    "    model.compile(optimizer=tf.train.AdamOptimizer(0.01), loss='categorical_crossentropy',\n",
    "                  metrics=['accuracy'])\n",
    "    \n",
    "    # Huấn luyện 10 epochs với learning rate lớn\n",
    "    model.fit_generator(train_gen, \n",
    "                        steps_per_epoch=steps_per_epoch, \n",
    "                        epochs=10,\n",
    "                        verbose=1, \n",
    "                        validation_data=val_gen,\n",
    "                        validation_steps=validation_steps, \n",
    "                        callbacks=[mcp])\n",
    "    \n",
    "    # Unfreeze toàn bộ mạng\n",
    "    base_model.trainable = True\n",
    "    \n",
    "    # Compile model\n",
    "    model.compile(optimizer=tf.train.AdamOptimizer(0.001), loss='categorical_crossentropy',\n",
    "                  metrics=['accuracy'])\n",
    "    \n",
    "    # Huấn luyện 100 epochs với learning rate nhỏ\n",
    "    model.fit_generator(train_gen, \n",
    "                        steps_per_epoch=steps_per_epoch, \n",
    "                        epochs=100,\n",
    "                        verbose=1, \n",
    "                        validation_data=val_gen,\n",
    "                        validation_steps=validation_steps, \n",
    "                        callbacks=[mcp])"
   ]
  },
  {
   "cell_type": "markdown",
   "metadata": {
    "colab_type": "text",
    "id": "xPaZVmoEuSBQ"
   },
   "source": [
    "# Các phương pháp khác\n",
    "Ngoài các baseline models được giới thiệu ở trên, các bạn hoàn toàn có thể sử dụng thêm các phương pháp khác như:\n",
    "- Sử dụng thư viện augmentation phức tạo hơn `imgaug`.\n",
    "- Oversampling để làm tăng độ cân bằng của dữ liệu.\n",
    "- Thêm weights vào hàm loss để làm tăng độ cân bằng giữa các nhãn.\n",
    "- Sử dụng các kiến trúc CNN khác, hoặc kết hợp nhiều kiến trúc lại với nhau.\n",
    "- Sử dụng ten-crop validation khi testing.\n",
    "- Sử dụng các phương pháp cross-validation để chia dữ liệu khi huấn luyện."
   ]
  }
 ],
 "metadata": {
  "accelerator": "GPU",
  "colab": {
   "collapsed_sections": [
    "6DN3gs3aT6Mg",
    "Oj4C8OMZT6Mh",
    "qO-PkgqyT6Mj",
    "CkbJdSYmT6Mk"
   ],
   "machine_shape": "hm",
   "name": "Assignment 3 - CNN - Solution.ipynb",
   "provenance": [],
   "toc_visible": true
  },
  "kernelspec": {
   "display_name": "Python 3",
   "language": "python",
   "name": "python3"
  },
  "language_info": {
   "codemirror_mode": {
    "name": "ipython",
    "version": 3
   },
   "file_extension": ".py",
   "mimetype": "text/x-python",
   "name": "python",
   "nbconvert_exporter": "python",
   "pygments_lexer": "ipython3",
   "version": "3.8.2"
  }
 },
 "nbformat": 4,
 "nbformat_minor": 4
}
